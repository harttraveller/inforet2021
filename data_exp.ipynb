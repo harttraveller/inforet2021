{
 "cells": [
  {
   "cell_type": "code",
   "execution_count": 1,
   "source": [
    "\r\n",
    "import json\r\n",
    "from bs4 import BeautifulSoup"
   ],
   "outputs": [],
   "metadata": {}
  },
  {
   "cell_type": "code",
   "execution_count": 17,
   "source": [
    "f = open('TRECcovid/corpus_small.jsonl').readlines()"
   ],
   "outputs": [],
   "metadata": {}
  },
  {
   "cell_type": "code",
   "execution_count": 26,
   "source": [
    "corpus = [json.loads(i) for i in json.loads(json.dumps(f))]"
   ],
   "outputs": [],
   "metadata": {}
  },
  {
   "cell_type": "code",
   "execution_count": 30,
   "source": [
    "corpus[0]['text']"
   ],
   "outputs": [
    {
     "output_type": "execute_result",
     "data": {
      "text/plain": [
       "'BACKGROUND: There are sparse data on whether non-pharmaceutical interventions can reduce the spread of influenza. We implemented a study of the feasibility and efficacy of face masks and hand hygiene to reduce influenza transmission among Hong Kong household members. METHODOLOGY/PRINCIPAL FINDINGS: We conducted a cluster randomized controlled trial of households (composed of at least 3 members) where an index subject presented with influenza-like-illness of <48 hours duration. After influenza was confirmed in an index case by the QuickVue Influenza A+B rapid test, the household of the index subject was randomized to 1) control or 2) surgical face masks or 3) hand hygiene. Households were visited within 36 hours, and 3, 6 and 9 days later. Nose and throat swabs were collected from index subjects and all household contacts at each home visit and tested by viral culture. The primary outcome measure was laboratory culture confirmed influenza in a household contact; the secondary outcome was clinically diagnosed influenza (by self-reported symptoms). We randomized 198 households and completed follow up home visits in 128; the index cases in 122 of those households had laboratory-confirmed influenza. There were 21 household contacts with laboratory confirmed influenza corresponding to a secondary attack ratio of 6%. Clinical secondary attack ratios varied from 5% to 18% depending on case definitions. The laboratory-based or clinical secondary attack ratios did not significantly differ across the intervention arms. Adherence to interventions was variable. CONCLUSIONS/SIGNIFICANCE: The secondary attack ratios were lower than anticipated, and lower than reported in other countries, perhaps due to differing patterns of susceptibility, lack of significant antigenic drift in circulating influenza virus strains recently, and/or issues related to the symptomatic recruitment design. Lessons learnt from this pilot have informed changes for the main study in 2008. TRIAL REGISTRATION: ClinicalTrials.gov NCT00425893 HKClinicalTrials.com HKCTR-365'"
      ]
     },
     "metadata": {},
     "execution_count": 30
    }
   ],
   "metadata": {}
  },
  {
   "cell_type": "code",
   "execution_count": null,
   "source": [],
   "outputs": [],
   "metadata": {}
  }
 ],
 "metadata": {
  "orig_nbformat": 4,
  "language_info": {
   "name": "python",
   "version": "3.8.5",
   "mimetype": "text/x-python",
   "codemirror_mode": {
    "name": "ipython",
    "version": 3
   },
   "pygments_lexer": "ipython3",
   "nbconvert_exporter": "python",
   "file_extension": ".py"
  },
  "kernelspec": {
   "name": "python3",
   "display_name": "Python 3.8.5 64-bit ('base': conda)"
  },
  "interpreter": {
   "hash": "b1f09a33527022494cbc1a3254192479adc88b8f7fdce239975774d86eaf2091"
  }
 },
 "nbformat": 4,
 "nbformat_minor": 2
}