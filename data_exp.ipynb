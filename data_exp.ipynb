{
 "cells": [
  {
   "cell_type": "code",
   "execution_count": 14,
   "source": [
    "from inforetlib.data import *\r\n",
    "import requests"
   ],
   "outputs": [],
   "metadata": {}
  },
  {
   "cell_type": "code",
   "execution_count": 2,
   "source": [
    "ld = LoadData()"
   ],
   "outputs": [],
   "metadata": {}
  },
  {
   "cell_type": "markdown",
   "source": [
    "Loading topics"
   ],
   "metadata": {}
  },
  {
   "cell_type": "code",
   "execution_count": 10,
   "source": [
    "topicn,query = ld.load_topics()"
   ],
   "outputs": [],
   "metadata": {}
  },
  {
   "cell_type": "markdown",
   "source": [
    "Loading Corpus"
   ],
   "metadata": {}
  },
  {
   "cell_type": "code",
   "execution_count": 7,
   "source": [
    "corpus = ld.load_corpus()\r\n"
   ],
   "outputs": [],
   "metadata": {}
  },
  {
   "cell_type": "markdown",
   "source": [
    "Loading query results"
   ],
   "metadata": {}
  },
  {
   "cell_type": "code",
   "execution_count": 9,
   "source": [
    "qtopicn,idn,label = ld.load_query_results()"
   ],
   "outputs": [],
   "metadata": {}
  },
  {
   "cell_type": "markdown",
   "source": [
    "for each query, we pass to the ir engine, which scans the corpus and returns query results. We then compare these query results against the query results data.\r\n",
    "\r\n",
    "because of the way the algorithm works, we need to collect synonyms up to num_synonyms \r\n",
    "\r\n",
    "https://rapidapi.com/ipeirotis/api/wikisynonyms/\r\n",
    "\r\n",
    "Use rapidapi wikisynonyms for synonyms"
   ],
   "metadata": {}
  },
  {
   "cell_type": "code",
   "execution_count": 58,
   "source": [
    "query[7]"
   ],
   "outputs": [
    {
     "output_type": "execute_result",
     "data": {
      "text/plain": [
       "'coronavirus under reporting'"
      ]
     },
     "metadata": {},
     "execution_count": 58
    }
   ],
   "metadata": {}
  },
  {
   "cell_type": "markdown",
   "source": [
    "Synonym Retrieval\r\n",
    "\r\n",
    "- need to get synonyms\r\n",
    "    - tokenize query\r\n",
    "    - get synonyms for each token\r\n",
    "    - tokenize synonyms"
   ],
   "metadata": {}
  },
  {
   "cell_type": "code",
   "execution_count": 57,
   "source": [
    "word = 'serological'\r\n",
    "\r\n",
    "url = \"https://wordsapiv1.p.rapidapi.com/words/{}/synonyms\".format(word)\r\n",
    "\r\n",
    "headers = {\r\n",
    "    'x-rapidapi-host': \"wordsapiv1.p.rapidapi.com\",\r\n",
    "    'x-rapidapi-key': \"3ad0ee4973msh2c5ad117382e6acp1f3849jsn52382348dab8\"\r\n",
    "    }\r\n",
    "\r\n",
    "response = requests.request(\"GET\", url, headers=headers)\r\n",
    "\r\n",
    "print(response.text)"
   ],
   "outputs": [
    {
     "output_type": "stream",
     "name": "stdout",
     "text": [
      "{\"word\":\"serological\",\"synonyms\":[\"serologic\"]}\n"
     ]
    }
   ],
   "metadata": {}
  },
  {
   "cell_type": "code",
   "execution_count": null,
   "source": [],
   "outputs": [],
   "metadata": {}
  }
 ],
 "metadata": {
  "orig_nbformat": 4,
  "language_info": {
   "name": "python",
   "version": "3.8.5",
   "mimetype": "text/x-python",
   "codemirror_mode": {
    "name": "ipython",
    "version": 3
   },
   "pygments_lexer": "ipython3",
   "nbconvert_exporter": "python",
   "file_extension": ".py"
  },
  "kernelspec": {
   "name": "python3",
   "display_name": "Python 3.8.5 64-bit ('base': conda)"
  },
  "interpreter": {
   "hash": "b1f09a33527022494cbc1a3254192479adc88b8f7fdce239975774d86eaf2091"
  }
 },
 "nbformat": 4,
 "nbformat_minor": 2
}